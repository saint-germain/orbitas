{
 "cells": [
  {
   "cell_type": "code",
   "execution_count": 1,
   "metadata": {
    "collapsed": true
   },
   "outputs": [],
   "source": [
    "import numpy as np\n",
    "from mpl_toolkits.mplot3d import Axes3D\n",
    "import matplotlib.pyplot as plt\n",
    "import emcee\n",
    "%matplotlib inline"
   ]
  },
  {
   "cell_type": "code",
   "execution_count": 2,
   "metadata": {
    "collapsed": true
   },
   "outputs": [],
   "source": [
    "A=np.loadtxt('prueba8_021_000_stars.pv')"
   ]
  },
  {
   "cell_type": "code",
   "execution_count": 3,
   "metadata": {
    "collapsed": true
   },
   "outputs": [],
   "source": [
    "# Estos son los datos que usamos\n",
    "sizei=200000\n",
    "sizef=400000\n",
    "#sizef=sizei+1000\n",
    "xs=A[sizei:sizef,0]\n",
    "ys=A[sizei:sizef,1]\n",
    "zs=A[sizei:sizef,2]\n",
    "data=np.vstack((xs,ys,zs)).T"
   ]
  },
  {
   "cell_type": "code",
   "execution_count": 5,
   "metadata": {
    "collapsed": false
   },
   "outputs": [
    {
     "name": "stdout",
     "output_type": "stream",
     "text": [
      "[ 35.82981879  22.29875623]\n",
      "[[ 0.21539389 -0.00839967  0.97649113]\n",
      " [-0.94391472  0.25447599  0.21039718]]\n"
     ]
    }
   ],
   "source": [
    "# Para el prior\n",
    "from sklearn.decomposition import PCA\n",
    "pca = PCA(n_components=2)\n",
    "x_proj=pca.fit_transform(data)\n",
    "print(pca.explained_variance_)\n",
    "print(pca.components_)"
   ]
  },
  {
   "cell_type": "code",
   "execution_count": 6,
   "metadata": {
    "collapsed": true
   },
   "outputs": [],
   "source": [
    "def rot(VEC,angle):\n",
    "    A=VEC[0]*np.cos(angle)-VEC[1]*np.sin(angle)\n",
    "    B=VEC[0]*np.sin(angle)+VEC[1]*np.cos(angle)\n",
    "    return np.array([A,B])"
   ]
  },
  {
   "cell_type": "code",
   "execution_count": 8,
   "metadata": {
    "collapsed": true
   },
   "outputs": [],
   "source": [
    "vector=np.cross(pca.components_[0],pca.components_[1])"
   ]
  },
  {
   "cell_type": "code",
   "execution_count": 170,
   "metadata": {
    "collapsed": false
   },
   "outputs": [
    {
     "data": {
      "text/plain": [
       "array([-0.25026081, -0.96704261,  0.046884  ])"
      ]
     },
     "execution_count": 170,
     "metadata": {},
     "output_type": "execute_result"
    }
   ],
   "source": [
    "vector"
   ]
  },
  {
   "cell_type": "code",
   "execution_count": 9,
   "metadata": {
    "collapsed": false
   },
   "outputs": [],
   "source": [
    "theta=np.pi/4.\n",
    "xymin=rot(vector[0:2],theta)\n",
    "xymax=rot(vector[0:2],-theta)\n",
    "xy=np.vstack((xymin,xymax))\n",
    "xmin,xmax=np.sort(xy[:,0])\n",
    "ymin,ymax=np.sort(xy[:,1])"
   ]
  },
  {
   "cell_type": "code",
   "execution_count": 10,
   "metadata": {
    "collapsed": false
   },
   "outputs": [],
   "source": [
    "yzmin=rot(vector[1:3],theta)\n",
    "yzmax=rot(vector[1:3],-theta)\n",
    "yz=np.vstack((yzmin,yzmax))\n",
    "ymin2,ymax2=np.sort(yz[:,0])\n",
    "zmin,zmax=np.sort(yz[:,1])"
   ]
  },
  {
   "cell_type": "code",
   "execution_count": 11,
   "metadata": {
    "collapsed": true
   },
   "outputs": [],
   "source": [
    "vector2=np.array([vector[2],vector[0]])\n",
    "zxmin=rot(vector2,theta)\n",
    "zxmax=rot(vector2,-theta)\n",
    "zx=np.vstack((zxmin,zxmax))\n",
    "zmin2,zmax2=np.sort(zx[:,0])\n",
    "xmin2,xmax2=np.sort(zx[:,1])"
   ]
  },
  {
   "cell_type": "code",
   "execution_count": 41,
   "metadata": {
    "collapsed": false
   },
   "outputs": [],
   "source": [
    "# valores plausibles (alrededor de 45 grados) para los n,m,l en la ecuación nx+my+lz+d=0\n",
    "ni=np.min(xmin,xmin2)\n",
    "nf=np.max(xmax,xmax2)\n",
    "mi=np.min(ymin,ymin2)\n",
    "mf=np.max(ymax,ymax2)\n",
    "li=np.min(zmin,zmin2)\n",
    "lf=np.max(zmax,zmax2)"
   ]
  },
  {
   "cell_type": "code",
   "execution_count": 73,
   "metadata": {
    "collapsed": false
   },
   "outputs": [
    {
     "data": {
      "text/plain": [
       "(-0.86076350650255384,\n",
       " -0.50684127382855837,\n",
       " -0.65065039914486011,\n",
       " 0.71695438118625188)"
      ]
     },
     "execution_count": 73,
     "metadata": {},
     "output_type": "execute_result"
    }
   ],
   "source": [
    "mi,mf,li,lf"
   ]
  },
  {
   "cell_type": "code",
   "execution_count": 21,
   "metadata": {
    "collapsed": true
   },
   "outputs": [],
   "source": [
    "dataav=data-np.mean(data,axis=0)"
   ]
  },
  {
   "cell_type": "code",
   "execution_count": 57,
   "metadata": {
    "collapsed": false
   },
   "outputs": [],
   "source": [
    "# la distancia máxima desde el centro a lo largo del vector normal\n",
    "di=-np.linalg.norm(dataav[np.argmax(np.abs(np.dot(dataav,vector)))])\n",
    "df=-di"
   ]
  },
  {
   "cell_type": "code",
   "execution_count": 158,
   "metadata": {
    "collapsed": false
   },
   "outputs": [],
   "source": [
    "def lnprior(params,mi,mf,li,lf,di,df):\n",
    "    if 1-params[0]**2-params[1]**2<0.:\n",
    "        return -np.inf    \n",
    "    if mi < params[0] < mf and li < params[1] < lf and di < params[2] < df:\n",
    "        return 0.0\n",
    "    return -np.inf"
   ]
  },
  {
   "cell_type": "code",
   "execution_count": 182,
   "metadata": {
    "collapsed": true
   },
   "outputs": [],
   "source": [
    "# prior de cono\n",
    "def lnprior(params,theta,vector):\n",
    "    if 1-params[0]**2-params[1]**2<0.:\n",
    "        return -np.inf    \n",
    "    n=-np.sqrt(1-params[0]**2-params[1]**2)\n",
    "    normal=np.append([n],params[0:2])\n",
    "    if 1. > np.dot(normal,vector) > np.cos(theta) and di < params[2] < df:\n",
    "        return 0.0\n",
    "    return -np.inf"
   ]
  },
  {
   "cell_type": "code",
   "execution_count": 183,
   "metadata": {
    "collapsed": false
   },
   "outputs": [
    {
     "data": {
      "text/plain": [
       "-inf"
      ]
     },
     "execution_count": 183,
     "metadata": {},
     "output_type": "execute_result"
    }
   ],
   "source": [
    "lnprior(parguess,np.pi/4,vector)"
   ]
  },
  {
   "cell_type": "code",
   "execution_count": 176,
   "metadata": {
    "collapsed": false
   },
   "outputs": [
    {
     "data": {
      "text/plain": [
       "array([-0.96704261,  0.046884  ,  0.        ])"
      ]
     },
     "execution_count": 176,
     "metadata": {},
     "output_type": "execute_result"
    }
   ],
   "source": [
    "parguess"
   ]
  },
  {
   "cell_type": "code",
   "execution_count": 177,
   "metadata": {
    "collapsed": false
   },
   "outputs": [
    {
     "data": {
      "text/plain": [
       "array([-0.25026081, -0.96704261,  0.046884  ])"
      ]
     },
     "execution_count": 177,
     "metadata": {},
     "output_type": "execute_result"
    }
   ],
   "source": [
    "vector"
   ]
  },
  {
   "cell_type": "code",
   "execution_count": 184,
   "metadata": {
    "collapsed": false
   },
   "outputs": [
    {
     "data": {
      "text/plain": [
       "0.85531879177269832"
      ]
     },
     "execution_count": 184,
     "metadata": {},
     "output_type": "execute_result"
    }
   ],
   "source": [
    "n=-np.sqrt(1-parguess[0]**2-parguess[1]**2)\n",
    "normal=np.append([n],params[0:2])\n",
    "np.dot(normal,vector)\n"
   ]
  },
  {
   "cell_type": "code",
   "execution_count": 174,
   "metadata": {
    "collapsed": false
   },
   "outputs": [
    {
     "data": {
      "text/plain": [
       "1.0000000000000002"
      ]
     },
     "execution_count": 174,
     "metadata": {},
     "output_type": "execute_result"
    }
   ],
   "source": [
    "np.dot(vector,vector)"
   ]
  },
  {
   "cell_type": "code",
   "execution_count": 169,
   "metadata": {
    "collapsed": false
   },
   "outputs": [
    {
     "data": {
      "text/plain": [
       "array([-0.96704261,  0.046884  ,  0.        ])"
      ]
     },
     "execution_count": 169,
     "metadata": {},
     "output_type": "execute_result"
    }
   ],
   "source": [
    "#parguess esta por fuera de mi y mf. npi\n",
    "parguess"
   ]
  },
  {
   "cell_type": "markdown",
   "metadata": {},
   "source": [
    "$$D=\\frac{a\\,x_0+b\\,y_0+c\\,z_0+d}{\\sqrt{a^2+b^2+c^2}}$$"
   ]
  },
  {
   "cell_type": "code",
   "execution_count": 84,
   "metadata": {
    "collapsed": true
   },
   "outputs": [],
   "source": [
    "def distances(data,params):\n",
    "    if 1-params[0]**2-params[1]**2<0.:\n",
    "        return np.inf\n",
    "    n=np.sqrt(1-params[0]**2-params[1]**2)\n",
    "    normal=np.append([n],params[0:2])\n",
    "    d=np.dot(data,normal)+params[2]\n",
    "#    d=(np.dot(data,normal))/np.linalg.norm(params)\n",
    "    return d"
   ]
  },
  {
   "cell_type": "code",
   "execution_count": 159,
   "metadata": {
    "collapsed": false
   },
   "outputs": [],
   "source": [
    "def lnlike(data,params):\n",
    "    n=np.sqrt(1-params[0]**2-params[1]**2)\n",
    "    normal=np.append([n],params[0:2])\n",
    "    d=np.dot(data,normal)+params[2]\n",
    "    inv_sigma2=1/1000.\n",
    "    return -0.5*(np.sum(d**2*inv_sigma2-np.log(inv_sigma2)))"
   ]
  },
  {
   "cell_type": "code",
   "execution_count": 160,
   "metadata": {
    "collapsed": false
   },
   "outputs": [],
   "source": [
    "def lnprob(params,mi,mf,li,lf,di,df,data):\n",
    "    lp = lnprior(params,mi,mf,li,lf,di,df)\n",
    "    if not np.isfinite(lp):\n",
    "        return -np.inf\n",
    "    return lp + lnlike(data,params)"
   ]
  },
  {
   "cell_type": "code",
   "execution_count": 80,
   "metadata": {
    "collapsed": false
   },
   "outputs": [],
   "source": [
    "params=np.array([-0.85076351, -0.6406504 ,  0.        ])"
   ]
  },
  {
   "cell_type": "code",
   "execution_count": 86,
   "metadata": {
    "collapsed": false
   },
   "outputs": [
    {
     "data": {
      "text/plain": [
       "inf"
      ]
     },
     "execution_count": 86,
     "metadata": {},
     "output_type": "execute_result"
    }
   ],
   "source": [
    "distances(dataav,params)"
   ]
  },
  {
   "cell_type": "code",
   "execution_count": 85,
   "metadata": {
    "collapsed": false
   },
   "outputs": [
    {
     "data": {
      "text/plain": [
       "-inf"
      ]
     },
     "execution_count": 85,
     "metadata": {},
     "output_type": "execute_result"
    }
   ],
   "source": [
    "lnprob(params,mi,mf,li,lf,di,df,dataav)"
   ]
  },
  {
   "cell_type": "code",
   "execution_count": 120,
   "metadata": {
    "collapsed": false
   },
   "outputs": [
    {
     "data": {
      "text/plain": [
       "array([-0.96704261,  0.046884  ,  0.        ])"
      ]
     },
     "execution_count": 120,
     "metadata": {},
     "output_type": "execute_result"
    }
   ],
   "source": [
    "parguess=np.array([vector[1],vector[2],0.])\n",
    "parguess"
   ]
  },
  {
   "cell_type": "code",
   "execution_count": 165,
   "metadata": {
    "collapsed": false
   },
   "outputs": [],
   "source": [
    "ndim, nwalkers = 3, 100\n",
    "pos = [parguess + 1e-5*np.random.randn(ndim) for i in range(nwalkers)]"
   ]
  },
  {
   "cell_type": "code",
   "execution_count": 166,
   "metadata": {
    "collapsed": false
   },
   "outputs": [],
   "source": [
    "import emcee\n",
    "sampler = emcee.EnsembleSampler(nwalkers, ndim, lnprob, args=(mi,mf,li,lf,di,df,dataav))"
   ]
  },
  {
   "cell_type": "code",
   "execution_count": 167,
   "metadata": {
    "collapsed": false
   },
   "outputs": [
    {
     "data": {
      "text/plain": [
       "(array([[ -9.67060073e-01,   4.68732532e-02,  -2.36902751e-05],\n",
       "        [ -9.67043336e-01,   4.68733327e-02,  -1.91797555e-06],\n",
       "        [ -9.67054977e-01,   4.68819525e-02,  -1.47278148e-05],\n",
       "        [ -9.67036928e-01,   4.68948950e-02,  -5.64280642e-07],\n",
       "        [ -9.67049585e-01,   4.68787682e-02,  -7.05996566e-06],\n",
       "        [ -9.67041699e-01,   4.68795007e-02,  -7.90929394e-06],\n",
       "        [ -9.67026806e-01,   4.68806447e-02,  -8.89382586e-07],\n",
       "        [ -9.67037491e-01,   4.68982123e-02,   1.25348195e-06],\n",
       "        [ -9.67040674e-01,   4.68920468e-02,  -3.68059361e-06],\n",
       "        [ -9.67045586e-01,   4.68995604e-02,   2.97511344e-06],\n",
       "        [ -9.67033707e-01,   4.68682162e-02,   2.19431677e-05],\n",
       "        [ -9.67039402e-01,   4.68870691e-02,  -1.79777987e-05],\n",
       "        [ -9.67064649e-01,   4.68834178e-02,  -2.28474891e-06],\n",
       "        [ -9.67056042e-01,   4.68851902e-02,  -8.45861144e-06],\n",
       "        [ -9.67043934e-01,   4.68904241e-02,   3.29142547e-06],\n",
       "        [ -9.67040883e-01,   4.68972073e-02,   3.73656208e-06],\n",
       "        [ -9.67047349e-01,   4.68946180e-02,  -8.44710277e-06],\n",
       "        [ -9.67064809e-01,   4.68960034e-02,   1.19682636e-05],\n",
       "        [ -9.67040737e-01,   4.68902084e-02,  -1.25360680e-05],\n",
       "        [ -9.67044051e-01,   4.68772920e-02,  -3.77113507e-06],\n",
       "        [ -9.67030364e-01,   4.68993077e-02,   3.78992341e-06],\n",
       "        [ -9.67032564e-01,   4.68831918e-02,   1.62683350e-05],\n",
       "        [ -9.67038860e-01,   4.68884136e-02,   1.45857045e-05],\n",
       "        [ -9.67051723e-01,   4.68695840e-02,   2.77354968e-06],\n",
       "        [ -9.67043093e-01,   4.68676713e-02,  -2.54391310e-06],\n",
       "        [ -9.67042903e-01,   4.68860034e-02,  -1.48454366e-05],\n",
       "        [ -9.67028491e-01,   4.68759869e-02,  -4.36778912e-07],\n",
       "        [ -9.67053607e-01,   4.68978813e-02,   1.19845266e-05],\n",
       "        [ -9.67035912e-01,   4.68836138e-02,   5.74739880e-06],\n",
       "        [ -9.67054110e-01,   4.69001477e-02,  -2.65903423e-06],\n",
       "        [ -9.67033783e-01,   4.68960727e-02,   7.12679712e-06],\n",
       "        [ -9.67037316e-01,   4.68971456e-02,   7.53228571e-06],\n",
       "        [ -9.67026651e-01,   4.68804229e-02,   2.07913515e-06],\n",
       "        [ -9.67035206e-01,   4.68785045e-02,   9.73576651e-06],\n",
       "        [ -9.67034251e-01,   4.68794765e-02,  -8.91018442e-06],\n",
       "        [ -9.67031611e-01,   4.68810146e-02,  -2.18469722e-05],\n",
       "        [ -9.67031294e-01,   4.68857325e-02,  -6.12675859e-06],\n",
       "        [ -9.67042480e-01,   4.68546955e-02,   1.44340810e-05],\n",
       "        [ -9.67024149e-01,   4.68860519e-02,   4.11541264e-06],\n",
       "        [ -9.67040231e-01,   4.68723366e-02,  -1.20066639e-06],\n",
       "        [ -9.67047461e-01,   4.68796199e-02,  -5.12162360e-06],\n",
       "        [ -9.67044723e-01,   4.68874148e-02,   1.71842787e-05],\n",
       "        [ -9.67027674e-01,   4.68941100e-02,  -1.06626323e-05],\n",
       "        [ -9.67066101e-01,   4.68955760e-02,  -1.49138859e-06],\n",
       "        [ -9.67047268e-01,   4.68806267e-02,   1.93535516e-05],\n",
       "        [ -9.67021233e-01,   4.68938748e-02,  -1.75268516e-05],\n",
       "        [ -9.67067420e-01,   4.68677385e-02,  -1.41249701e-05],\n",
       "        [ -9.67034396e-01,   4.68880215e-02,   1.40695701e-06],\n",
       "        [ -9.67015407e-01,   4.68715999e-02,  -2.19803322e-05],\n",
       "        [ -9.67043039e-01,   4.68766725e-02,   3.85612001e-06],\n",
       "        [ -9.67056681e-01,   4.68930988e-02,   1.17167050e-05],\n",
       "        [ -9.67046330e-01,   4.68846920e-02,  -1.34622764e-05],\n",
       "        [ -9.67046247e-01,   4.68991565e-02,  -1.64090011e-06],\n",
       "        [ -9.67024055e-01,   4.68888879e-02,   7.28976436e-06],\n",
       "        [ -9.67048015e-01,   4.68801725e-02,   9.36481356e-06],\n",
       "        [ -9.67043571e-01,   4.68965175e-02,  -1.18406988e-05],\n",
       "        [ -9.67043660e-01,   4.68862018e-02,   1.97485737e-05],\n",
       "        [ -9.67052993e-01,   4.68980688e-02,   1.05983084e-06],\n",
       "        [ -9.67026509e-01,   4.68964939e-02,   1.31899695e-05],\n",
       "        [ -9.67039866e-01,   4.68727135e-02,   5.41813862e-06],\n",
       "        [ -9.67033276e-01,   4.68807589e-02,   3.82636452e-06],\n",
       "        [ -9.67059869e-01,   4.68754553e-02,  -2.81224195e-05],\n",
       "        [ -9.67046603e-01,   4.68887666e-02,  -6.88818928e-06],\n",
       "        [ -9.67031527e-01,   4.68725136e-02,   1.12711364e-06],\n",
       "        [ -9.67039379e-01,   4.68716760e-02,   1.05004189e-05],\n",
       "        [ -9.67038251e-01,   4.68856414e-02,  -1.11381956e-05],\n",
       "        [ -9.67053147e-01,   4.68841924e-02,  -1.38883977e-05],\n",
       "        [ -9.67055053e-01,   4.68662349e-02,   6.64057115e-06],\n",
       "        [ -9.67049306e-01,   4.68843307e-02,   4.35268426e-06],\n",
       "        [ -9.67063748e-01,   4.68947222e-02,  -9.32580710e-06],\n",
       "        [ -9.67037114e-01,   4.68758769e-02,   5.38679232e-06],\n",
       "        [ -9.67033596e-01,   4.68798392e-02,  -9.48116681e-08],\n",
       "        [ -9.67054914e-01,   4.68903160e-02,   1.03801246e-05],\n",
       "        [ -9.67050522e-01,   4.68767965e-02,  -1.20983294e-05],\n",
       "        [ -9.67035112e-01,   4.68919656e-02,  -2.97838985e-06],\n",
       "        [ -9.67029884e-01,   4.68882331e-02,  -1.93140578e-06],\n",
       "        [ -9.67048624e-01,   4.68744544e-02,   4.49059512e-06],\n",
       "        [ -9.67077399e-01,   4.68755569e-02,  -1.36013766e-05],\n",
       "        [ -9.67029875e-01,   4.68895871e-02,  -8.74188041e-06],\n",
       "        [ -9.67044370e-01,   4.68795368e-02,  -7.33149635e-06],\n",
       "        [ -9.67033630e-01,   4.68894680e-02,   2.29681487e-07],\n",
       "        [ -9.67040209e-01,   4.68796326e-02,   1.07438669e-05],\n",
       "        [ -9.67031853e-01,   4.68815907e-02,  -5.16951398e-06],\n",
       "        [ -9.67040950e-01,   4.68729195e-02,  -8.91166341e-07],\n",
       "        [ -9.67045488e-01,   4.68932317e-02,   6.34218130e-07],\n",
       "        [ -9.67038710e-01,   4.68840826e-02,  -2.80869345e-06],\n",
       "        [ -9.67061961e-01,   4.68795600e-02,  -1.90896267e-05],\n",
       "        [ -9.67036984e-01,   4.68810057e-02,  -5.63309390e-06],\n",
       "        [ -9.67053107e-01,   4.68984960e-02,  -1.05921217e-06],\n",
       "        [ -9.67044785e-01,   4.68837474e-02,  -6.37580096e-06],\n",
       "        [ -9.67046360e-01,   4.69043692e-02,  -2.72517772e-06],\n",
       "        [ -9.67034630e-01,   4.68867570e-02,  -9.91149523e-06],\n",
       "        [ -9.67044711e-01,   4.68878029e-02,   2.11243709e-05],\n",
       "        [ -9.67055597e-01,   4.68757423e-02,   5.53528295e-06],\n",
       "        [ -9.67038486e-01,   4.68905994e-02,  -1.31813490e-05],\n",
       "        [ -9.67037216e-01,   4.68789362e-02,  -7.33611449e-06],\n",
       "        [ -9.67056808e-01,   4.68950696e-02,   1.24010407e-05],\n",
       "        [ -9.67041737e-01,   4.68875699e-02,  -1.15029585e-05],\n",
       "        [ -9.67042079e-01,   4.68751067e-02,   1.97944516e-05],\n",
       "        [ -9.67063846e-01,   4.68937406e-02,  -2.87515218e-05]]),\n",
       " array([-inf, -inf, -inf, -inf, -inf, -inf, -inf, -inf, -inf, -inf, -inf,\n",
       "        -inf, -inf, -inf, -inf, -inf, -inf, -inf, -inf, -inf, -inf, -inf,\n",
       "        -inf, -inf, -inf, -inf, -inf, -inf, -inf, -inf, -inf, -inf, -inf,\n",
       "        -inf, -inf, -inf, -inf, -inf, -inf, -inf, -inf, -inf, -inf, -inf,\n",
       "        -inf, -inf, -inf, -inf, -inf, -inf, -inf, -inf, -inf, -inf, -inf,\n",
       "        -inf, -inf, -inf, -inf, -inf, -inf, -inf, -inf, -inf, -inf, -inf,\n",
       "        -inf, -inf, -inf, -inf, -inf, -inf, -inf, -inf, -inf, -inf, -inf,\n",
       "        -inf, -inf, -inf, -inf, -inf, -inf, -inf, -inf, -inf, -inf, -inf,\n",
       "        -inf, -inf, -inf, -inf, -inf, -inf, -inf, -inf, -inf, -inf, -inf,\n",
       "        -inf]),\n",
       " ('MT19937', array([3571155960, 4085884988,  909584364,  382978658, 3901088035,\n",
       "         1720440600, 1565387093, 2355562796,  905964269, 4033386174,\n",
       "         2518317155, 3847877651, 2049410051, 1309784640,  860665946,\n",
       "          396733750, 3534138436, 3656458410, 1654254869, 3047261563,\n",
       "         3972227014, 3521393729, 3950230679,  918583953, 3056403847,\n",
       "         1320313263, 1611630554, 3266513335, 3551572891, 1825261957,\n",
       "         1976839168, 1714755318, 1124132516, 1534070081, 2708539796,\n",
       "          492234763, 3868780250, 1624371727, 1549645151, 1027112423,\n",
       "         2534718553,  600759499, 3114308564, 2959324987, 1541025940,\n",
       "         2471155527, 1271704922, 3326411764, 2385668886, 1686264752,\n",
       "          720563167, 4221899411, 1618000834, 2752056677,  936145756,\n",
       "         2857981662, 3221789551, 2691453057, 3931645756, 3498264634,\n",
       "         2207547923,   98700040,  515189995,  939900816, 3469487787,\n",
       "         3626384551, 2321598063, 2075488982, 1800681473, 1640832761,\n",
       "         1707456150,  222295907,  739326261,  765365210, 2304121734,\n",
       "          261390108, 3444278970,  989715668, 3831982781, 3018698453,\n",
       "         3472173072, 3981375763, 3477386244, 2980615165, 2735547393,\n",
       "         4229206698, 2971924608,  376277932, 3579721474, 4105978916,\n",
       "         1464495384, 4188431936,  107089635, 2132311957, 3680400898,\n",
       "          413576023, 4217563088,  785788002, 1131325844, 2382367568,\n",
       "         1428453874,  814138739, 2730217720,  887041046, 2871713644,\n",
       "         4227311178, 2596457443,  807036958,  736828381, 1220617354,\n",
       "          329330032,  368844005, 1784819280, 3570044542, 4203736387,\n",
       "         1710616808, 1120155094, 2607075851, 2294697260,   73822882,\n",
       "         1320307796, 3041032162, 1284212345, 3928951524, 2683890505,\n",
       "         2238745588,  703472080, 1101347273, 1763383986, 2370238196,\n",
       "         1099638800, 1708174060,  965880449,  575797802, 3171897332,\n",
       "          189414665,  174576900, 2448725120, 1330967548, 3049903028,\n",
       "          696646230,  176167271, 1266599417, 1934575643, 3613478867,\n",
       "         4014828042, 1864341810, 3799476614, 1926288300, 3078344239,\n",
       "         2036788459, 1732065237, 1453501491, 1241760420, 3098269910,\n",
       "         1935966553, 3006922397, 3763555122, 3520526244, 1181536668,\n",
       "         1182060216,  548121269, 3995306077,   47984436, 2351592318,\n",
       "         2074191784, 1041181265, 1591883222, 2891397863,  634584557,\n",
       "         2544015249, 1172753423, 3527425985,  472450074, 3891215540,\n",
       "         1778815878,  544870176, 3750005225, 3518744361, 1363462268,\n",
       "         1855217873, 2605502498, 2434416058, 2224438459, 1345214122,\n",
       "         2677784286,  514331826, 2601050811, 3808672024, 2296961158,\n",
       "          215053179, 2936602404, 1583845942,  723928901, 3070341463,\n",
       "         1693566512,  807665300, 3808889989, 3993902753, 3251623845,\n",
       "          536152698, 2238053328, 3924380290, 1638202323, 1953660372,\n",
       "         3531781406, 3414608583,  795244945, 4195486135, 2191774773,\n",
       "         1157165514, 4219320774, 2187929022,  154630196, 1232093901,\n",
       "         1542958423, 2547287198, 1992855696, 1387304115,  794701440,\n",
       "         2011488301, 2371465467,  182941927, 1967577439, 3099158571,\n",
       "           22875384, 2285079089, 1231707455, 3324162965, 1567443242,\n",
       "         3530402936,   99988065, 3170871797, 4035368583, 2066784116,\n",
       "         3451528664,  692175223,   90087217, 2073508398, 1633252273,\n",
       "         1090007784, 4087484652, 2581329391, 4149215590, 2028342018,\n",
       "          672856673, 3441950292,   31829201,  145162412,  435782317,\n",
       "         3820233855,  821486255, 3814229981, 1362849486,  625272328,\n",
       "         2047831891, 2982144184, 3762116339, 1518976760, 4245337878,\n",
       "         2383943211, 1838746725, 3097847652,   50513626, 2294233512,\n",
       "         3569057122, 4106133755, 1193868719,  222715460, 1226051952,\n",
       "          866752103, 3007568141, 2733230200, 3040026788,  950403755,\n",
       "         2735381234, 4024137765, 1906297703,  481753684, 1737923402,\n",
       "         2680154795, 3693359361,  709939889, 2163845286, 1139283404,\n",
       "         1729767852, 3377138670, 1764987023, 3515535262, 3903921752,\n",
       "         1525681652, 1292369019, 3594522917, 1784629829,  244463665,\n",
       "           88363414, 3367194881, 1000847049, 1687266998, 2813686557,\n",
       "          902137588, 2618266048, 3100104485, 2510388352, 2891403743,\n",
       "         2834301701, 3931808334, 1159863058, 3501276434, 4093238113,\n",
       "         2962974764, 1707348891, 3299808577,   68413781, 1779014509,\n",
       "         3362439994, 1794185957, 2749375281,  560801608, 2404288905,\n",
       "         3185559865, 3748566685,  126409037, 1138720743, 1017658041,\n",
       "         2606914657, 1018630313, 4243931764, 3194043032,  661355430,\n",
       "         1372906202, 3819023150, 1326627880, 4103447413, 3958382780,\n",
       "         1817843628, 2927148708, 3033972519, 3534223590, 3459107269,\n",
       "         1269496123, 1121516248,  705455627, 3226361583, 1268291491,\n",
       "         1973313568, 3038582163, 1513401010, 1799023585, 4176054435,\n",
       "         2703865218, 1596883006, 2216043238,  459216857, 1923340791,\n",
       "         2377249264,   78982557, 2158533983, 1505391796, 3865454155,\n",
       "         3547279385, 1749602559,  575488561,  863493653,  804476972,\n",
       "           53859879, 3824028902, 2563988924, 2339930457, 3913883372,\n",
       "         4160752404, 3413539189, 4257449318,  562329093, 1031514932,\n",
       "          871306136, 1481334852, 2940428096, 2550688637, 1607964976,\n",
       "         2983426574, 3077691559, 2618055609, 2135486403,  884131537,\n",
       "          158724424, 2669265789, 2125334819,  135490968, 1965691556,\n",
       "         2096724039, 1910021933, 3412395254, 3146628451, 1789367079,\n",
       "         2938416558, 2020483864, 2908421504, 2864773400, 3362117935,\n",
       "         4009170210, 3970190721, 2530150662, 2146005607,  592156199,\n",
       "         2197683940, 3342183850,  133358205, 2347543676, 3009274960,\n",
       "         3644763043, 1019498849, 1783499506, 3857337243, 1171786366,\n",
       "         3347319873,  456250414, 3448717658,   77611183,  367727321,\n",
       "         1151171679, 1437135126, 2080614486, 1053932760, 1492773367,\n",
       "         2088992333, 2060923922, 2409343661, 2492041243, 3545679873,\n",
       "         3083880855, 2073696253, 2264931667, 2334911070,   10280237,\n",
       "          755657425, 1018384852, 2791533383, 2492578885,  386120321,\n",
       "         2982188838, 1487557766, 3685968322,  555742546,  445418501,\n",
       "          936093423, 1132774256,  881641453, 3407061957,   50244924,\n",
       "         3933917780,  195215228, 1465257852,  528471271,  942991797,\n",
       "          171987376, 1657912306,  137822207,  477623373,  619556013,\n",
       "           15201876,  639736714, 2878085707, 1079825264, 1590213476,\n",
       "         3635516751, 2441499692, 3760101797, 2704634715, 1055919817,\n",
       "          500534213,  678529515, 3970469587, 1213035837, 1689290194,\n",
       "         2094748225, 3785239889, 2950844084, 4150629292,  840048760,\n",
       "         1555824636, 2255010834,  663825158, 1770047588, 1256799404,\n",
       "         1047183242,  663853566,  460496880,  695774982, 3135704023,\n",
       "         2385705375, 3703848700,   19242278, 2936435137, 2870572793,\n",
       "         3340950303,  803273753,  406195783, 2341101695,  313805225,\n",
       "         1677849317, 1214391027, 3167402704, 3999164191,  780793409,\n",
       "         1302002484,  100559518,   19581628,  490168546, 3880232176,\n",
       "         1153618653, 4242603936, 1495599934, 1816065502, 3358308624,\n",
       "          125872670, 2261254196, 2568309464, 3153253325, 3987791377,\n",
       "         3550779860, 4187599760,  877182363, 4191781039, 3271305212,\n",
       "         1228563470,  441141757, 1728533146, 1495362488, 3329012277,\n",
       "           81213501, 4034120747, 1043028020,  392309848, 2850695701,\n",
       "         4161638444,   45866577,    4612870, 2320112741, 2089188630,\n",
       "         1136331267,   28393754,  994616682,  246734344, 2147029105,\n",
       "         3692390054, 4269907295, 3205016262,  963500515,  679192593,\n",
       "         2417676529, 4046811307,   48622242, 2090237344,  428858634,\n",
       "           59565362, 1385388394,  407176846, 3403994048, 1746944567,\n",
       "         1282832624,  730287888, 2003534841,  444520433, 1363809253,\n",
       "           86282428, 1267261889, 3179135709, 2104472178, 1227362205,\n",
       "         3213716601, 2437188021,  830750829,   87919281,  812619748,\n",
       "         1165844159, 2702555685, 4179307227, 2792069767, 1573717330,\n",
       "          129656913, 2312473376,  962233206, 2290944077,   33731613,\n",
       "          546820404, 1453235274, 1021758926, 2844570442, 3307385678,\n",
       "         3902294060,  477814539, 2455816378,  880630568, 1606615267,\n",
       "         2103747393, 3485689715, 4120701739,    4625902,  753144487,\n",
       "           22554451, 2444787137, 2692571234, 2796837697, 1042203915,\n",
       "         3120019547, 1013422465, 2417371679,  217499970, 3350176621,\n",
       "         2227353488, 1003459829, 3123237091, 4131227106,  606701319,\n",
       "         3572357101, 1971597240, 1187044003,  557025259, 4212023427,\n",
       "         3347267744, 3714396721, 1480059156,  302244580], dtype=uint32), 19, 0, 0.0))"
      ]
     },
     "execution_count": 167,
     "metadata": {},
     "output_type": "execute_result"
    }
   ],
   "source": [
    "sampler.run_mcmc(pos, 500)"
   ]
  },
  {
   "cell_type": "code",
   "execution_count": 114,
   "metadata": {
    "collapsed": false
   },
   "outputs": [
    {
     "data": {
      "text/plain": [
       "array([[[ -9.67261348e-01,   4.68083960e-02,   4.98238331e-05],\n",
       "        [ -9.67261348e-01,   4.68083960e-02,   4.98238331e-05],\n",
       "        [ -9.67261348e-01,   4.68083960e-02,   4.98238331e-05],\n",
       "        ..., \n",
       "        [ -9.67261348e-01,   4.68083960e-02,   4.98238331e-05],\n",
       "        [ -9.67261348e-01,   4.68083960e-02,   4.98238331e-05],\n",
       "        [ -9.67261348e-01,   4.68083960e-02,   4.98238331e-05]],\n",
       "\n",
       "       [[ -9.67107307e-01,   4.67320495e-02,   4.40980644e-05],\n",
       "        [ -9.67107307e-01,   4.67320495e-02,   4.40980644e-05],\n",
       "        [ -9.67107307e-01,   4.67320495e-02,   4.40980644e-05],\n",
       "        ..., \n",
       "        [ -9.67107307e-01,   4.67320495e-02,   4.40980644e-05],\n",
       "        [ -9.67107307e-01,   4.67320495e-02,   4.40980644e-05],\n",
       "        [ -9.67107307e-01,   4.67320495e-02,   4.40980644e-05]],\n",
       "\n",
       "       [[ -9.66971300e-01,   4.70369844e-02,   9.15726191e-06],\n",
       "        [ -9.66971300e-01,   4.70369844e-02,   9.15726191e-06],\n",
       "        [ -9.66971300e-01,   4.70369844e-02,   9.15726191e-06],\n",
       "        ..., \n",
       "        [ -9.66971300e-01,   4.70369844e-02,   9.15726191e-06],\n",
       "        [ -9.66971300e-01,   4.70369844e-02,   9.15726191e-06],\n",
       "        [ -9.66971300e-01,   4.70369844e-02,   9.15726191e-06]],\n",
       "\n",
       "       ..., \n",
       "       [[ -9.66990731e-01,   4.69291239e-02,   9.08795187e-05],\n",
       "        [ -9.66990731e-01,   4.69291239e-02,   9.08795187e-05],\n",
       "        [ -9.66990731e-01,   4.69291239e-02,   9.08795187e-05],\n",
       "        ..., \n",
       "        [ -9.66990731e-01,   4.69291239e-02,   9.08795187e-05],\n",
       "        [ -9.66990731e-01,   4.69291239e-02,   9.08795187e-05],\n",
       "        [ -9.66990731e-01,   4.69291239e-02,   9.08795187e-05]],\n",
       "\n",
       "       [[ -9.67127403e-01,   4.70677966e-02,   1.57425439e-04],\n",
       "        [ -9.67127403e-01,   4.70677966e-02,   1.57425439e-04],\n",
       "        [ -9.67127403e-01,   4.70677966e-02,   1.57425439e-04],\n",
       "        ..., \n",
       "        [ -9.67127403e-01,   4.70677966e-02,   1.57425439e-04],\n",
       "        [ -9.67127403e-01,   4.70677966e-02,   1.57425439e-04],\n",
       "        [ -9.67127403e-01,   4.70677966e-02,   1.57425439e-04]],\n",
       "\n",
       "       [[ -9.66971149e-01,   4.68402291e-02,   3.26669558e-05],\n",
       "        [ -9.66971149e-01,   4.68402291e-02,   3.26669558e-05],\n",
       "        [ -9.66971149e-01,   4.68402291e-02,   3.26669558e-05],\n",
       "        ..., \n",
       "        [ -9.66971149e-01,   4.68402291e-02,   3.26669558e-05],\n",
       "        [ -9.66971149e-01,   4.68402291e-02,   3.26669558e-05],\n",
       "        [ -9.66971149e-01,   4.68402291e-02,   3.26669558e-05]]])"
      ]
     },
     "execution_count": 114,
     "metadata": {},
     "output_type": "execute_result"
    }
   ],
   "source": [
    "sampler.chain"
   ]
  },
  {
   "cell_type": "code",
   "execution_count": 164,
   "metadata": {
    "collapsed": false
   },
   "outputs": [
    {
     "data": {
      "image/png": "[encoded data removed]",
      "text/plain": [
       "<matplotlib.figure.Figure at 0x105eefd90>"
      ]
     },
     "metadata": {},
     "output_type": "display_data"
    }
   ],
   "source": [
    "res=plt.plot(sampler.chain[:,:,2].T, '-', color='k', alpha=0.3)"
   ]
  },
  {
   "cell_type": "code",
   "execution_count": 119,
   "metadata": {
    "collapsed": false
   },
   "outputs": [
    {
     "data": {
      "text/plain": [
       "<bound method EnsembleSampler.run_mcmc of <emcee.ensemble.EnsembleSampler object at 0x1076c63d0>>"
      ]
     },
     "execution_count": 119,
     "metadata": {},
     "output_type": "execute_result"
    }
   ],
   "source": [
    "sampler.run_mcmc"
   ]
  },
  {
   "cell_type": "code",
   "execution_count": 69,
   "metadata": {
    "collapsed": false
   },
   "outputs": [
    {
     "data": {
      "text/plain": [
       "0.046883995321139141"
      ]
     },
     "execution_count": 69,
     "metadata": {},
     "output_type": "execute_result"
    }
   ],
   "source": [
    "vector[-1]"
   ]
  },
  {
   "cell_type": "code",
   "execution_count": null,
   "metadata": {
    "collapsed": true
   },
   "outputs": [],
   "source": []
  }
 ],
 "metadata": {
  "kernelspec": {
   "display_name": "Python 2",
   "language": "python",
   "name": "python2"
  },
  "language_info": {
   "codemirror_mode": {
    "name": "ipython",
    "version": 2
   },
   "file_extension": ".py",
   "mimetype": "text/x-python",
   "name": "python",
   "nbconvert_exporter": "python",
   "pygments_lexer": "ipython2",
   "version": "2.7.10"
  }
 },
 "nbformat": 4,
 "nbformat_minor": 0
}
